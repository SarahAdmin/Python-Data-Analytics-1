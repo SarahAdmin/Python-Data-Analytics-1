{
  "nbformat": 4,
  "nbformat_minor": 0,
  "metadata": {
    "colab": {
      "provenance": [],
      "authorship_tag": "ABX9TyPHqlVhxc7m5JsCTekARjoN",
      "include_colab_link": true
    },
    "kernelspec": {
      "name": "python3",
      "display_name": "Python 3"
    },
    "language_info": {
      "name": "python"
    }
  },
  "cells": [
    {
      "cell_type": "markdown",
      "metadata": {
        "id": "view-in-github",
        "colab_type": "text"
      },
      "source": [
        "<a href=\"https://colab.research.google.com/github/SarahAdmin/Python-Data-Analytics-1/blob/main/DA%20Work.ipynb\" target=\"_parent\"><img src=\"https://colab.research.google.com/assets/colab-badge.svg\" alt=\"Open In Colab\"/></a>"
      ]
    },
    {
      "cell_type": "code",
      "execution_count": 2,
      "metadata": {
        "colab": {
          "base_uri": "https://localhost:8080/"
        },
        "id": "gHfA04rResap",
        "outputId": "c41892b1-f809-4cd4-ba12-14b768aabfe4"
      },
      "outputs": [
        {
          "output_type": "stream",
          "name": "stdout",
          "text": [
            "   Student_ID              Name           Subject  Grade  Retake?\n",
            "0         284           Lee Cox  Computer Science      7    False\n",
            "1         264         Matt Bond     Media Studies      9    False\n",
            "2         754  Marcellina Adams      Film Studies      8    False\n",
            "3         646        Jill Gates  Computer Science      9    False\n",
            "4         247        Joe Malone    Art and Design      3     True\n",
            "5         938        Emma Mills      Film Studies      3     True\n"
          ]
        }
      ],
      "source": [
        "import pandas as pd\n",
        "data1 = {\"Student_ID\": [284,264,754,646,247,938],\n",
        "         \"Name\": ['Lee Cox','Matt Bond','Marcellina Adams','Jill Gates','Joe Malone','Emma Mills'],\n",
        "         \"Subject\": ['Computer Science','Media Studies','Film Studies','Computer Science','Art and Design','Film Studies']}\n",
        "data2 = {\"Grade\": [7,9,8,9,3,3],\n",
        "         \"Retake?\":[False,False,False,False,True,True]}\n",
        "\n",
        "parad1 = pd.DataFrame(data1)\n",
        "parad2 = pd.DataFrame(data2)\n",
        "studentData = parad1.join(parad2)\n",
        "print(studentData)"
      ]
    },
    {
      "cell_type": "code",
      "source": [
        "import pandas as pd\n",
        "oldGrade = ['A','B','C','D','E','F']\n",
        "grade1 = pd.Series(oldGrade)\n",
        "print(grade1)"
      ],
      "metadata": {
        "colab": {
          "base_uri": "https://localhost:8080/"
        },
        "id": "TC0kdaZfhN2V",
        "outputId": "2a50326b-b1e7-4d67-b12e-9136ad403110"
      },
      "execution_count": 4,
      "outputs": [
        {
          "output_type": "stream",
          "name": "stdout",
          "text": [
            "0    A\n",
            "1    B\n",
            "2    C\n",
            "3    D\n",
            "4    E\n",
            "5    F\n",
            "dtype: object\n"
          ]
        }
      ]
    },
    {
      "cell_type": "code",
      "source": [
        "import pandas as pd\n",
        "myBool = [True, False]\n",
        "boolOne = pd.Series(myBool)\n",
        "print(boolOne)"
      ],
      "metadata": {
        "colab": {
          "base_uri": "https://localhost:8080/"
        },
        "id": "Q7hlatJAhtbt",
        "outputId": "f652704b-8c17-4bdf-d43f-1bb4c108d1e8"
      },
      "execution_count": 5,
      "outputs": [
        {
          "output_type": "stream",
          "name": "stdout",
          "text": [
            "0     True\n",
            "1    False\n",
            "dtype: bool\n"
          ]
        }
      ]
    },
    {
      "cell_type": "code",
      "source": [
        "import pandas as pd\n",
        "myNum ={\"Number_of_Bytes\": [16,24,32,64,128,256],\n",
        "        \"Score\": [32,64,128,8,16,16,]}\n",
        "PoweredNumbers = pd.DataFrame(myNum)\n",
        "print(PoweredNumbers.pow(2))"
      ],
      "metadata": {
        "colab": {
          "base_uri": "https://localhost:8080/"
        },
        "id": "RFkwmdDdh_ew",
        "outputId": "ea4484bb-4207-4e36-f1fe-70b2edae0342"
      },
      "execution_count": 10,
      "outputs": [
        {
          "output_type": "stream",
          "name": "stdout",
          "text": [
            "   Number_of_Bytes  Score\n",
            "0              256   1024\n",
            "1              576   4096\n",
            "2             1024  16384\n",
            "3             4096     64\n",
            "4            16384    256\n",
            "5            65536    256\n"
          ]
        }
      ]
    }
  ]
}